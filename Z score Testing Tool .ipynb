{
 "cells": [
  {
   "cell_type": "markdown",
   "id": "6c18f6ce",
   "metadata": {},
   "source": [
    "# Z-score Testing \n",
    "**By Ibrahim Youssef**"
   ]
  },
  {
   "cell_type": "markdown",
   "id": "b8e2b28b",
   "metadata": {},
   "source": [
    "This is a tool made to test the change using the Z-score will give it a certain date and time \n",
    "this is used to test differences in the metrics\n",
    "this is used to test the difference in a certain metric like Sales and conversion"
   ]
  },
  {
   "cell_type": "markdown",
   "id": "af48bcf1",
   "metadata": {},
   "source": [
    "# Getting the Tool kits"
   ]
  },
  {
   "cell_type": "code",
   "execution_count": 1,
   "id": "d7a9d7a4",
   "metadata": {},
   "outputs": [],
   "source": [
    "import pandas as pd \n",
    "import numpy as np \n",
    "import warnings "
   ]
  },
  {
   "cell_type": "code",
   "execution_count": 2,
   "id": "159e753f",
   "metadata": {},
   "outputs": [],
   "source": [
    "warnings.filterwarnings(\"ignore\")"
   ]
  },
  {
   "cell_type": "markdown",
   "id": "dc04c12e",
   "metadata": {},
   "source": [
    "# Getting the data\n",
    "for example, we will use this data base and do all the cleaning for it before running the test on what we need"
   ]
  },
  {
   "cell_type": "code",
   "execution_count": 3,
   "id": "f909de86",
   "metadata": {},
   "outputs": [
    {
     "data": {
      "text/html": [
       "<div>\n",
       "<style scoped>\n",
       "    .dataframe tbody tr th:only-of-type {\n",
       "        vertical-align: middle;\n",
       "    }\n",
       "\n",
       "    .dataframe tbody tr th {\n",
       "        vertical-align: top;\n",
       "    }\n",
       "\n",
       "    .dataframe thead th {\n",
       "        text-align: right;\n",
       "    }\n",
       "</style>\n",
       "<table border=\"1\" class=\"dataframe\">\n",
       "  <thead>\n",
       "    <tr style=\"text-align: right;\">\n",
       "      <th></th>\n",
       "      <th>InvoiceNo</th>\n",
       "      <th>StockCode</th>\n",
       "      <th>Description</th>\n",
       "      <th>Quantity</th>\n",
       "      <th>InvoiceDate</th>\n",
       "      <th>UnitPrice</th>\n",
       "      <th>CustomerID</th>\n",
       "      <th>Country</th>\n",
       "    </tr>\n",
       "  </thead>\n",
       "  <tbody>\n",
       "    <tr>\n",
       "      <th>0</th>\n",
       "      <td>536365</td>\n",
       "      <td>85123A</td>\n",
       "      <td>WHITE HANGING HEART T-LIGHT HOLDER</td>\n",
       "      <td>6</td>\n",
       "      <td>2010-12-01 08:26:00</td>\n",
       "      <td>2.55</td>\n",
       "      <td>17850.0</td>\n",
       "      <td>United Kingdom</td>\n",
       "    </tr>\n",
       "    <tr>\n",
       "      <th>1</th>\n",
       "      <td>536365</td>\n",
       "      <td>71053</td>\n",
       "      <td>WHITE METAL LANTERN</td>\n",
       "      <td>6</td>\n",
       "      <td>2010-12-01 08:26:00</td>\n",
       "      <td>3.39</td>\n",
       "      <td>17850.0</td>\n",
       "      <td>United Kingdom</td>\n",
       "    </tr>\n",
       "    <tr>\n",
       "      <th>2</th>\n",
       "      <td>536365</td>\n",
       "      <td>84406B</td>\n",
       "      <td>CREAM CUPID HEARTS COAT HANGER</td>\n",
       "      <td>8</td>\n",
       "      <td>2010-12-01 08:26:00</td>\n",
       "      <td>2.75</td>\n",
       "      <td>17850.0</td>\n",
       "      <td>United Kingdom</td>\n",
       "    </tr>\n",
       "    <tr>\n",
       "      <th>3</th>\n",
       "      <td>536365</td>\n",
       "      <td>84029G</td>\n",
       "      <td>KNITTED UNION FLAG HOT WATER BOTTLE</td>\n",
       "      <td>6</td>\n",
       "      <td>2010-12-01 08:26:00</td>\n",
       "      <td>3.39</td>\n",
       "      <td>17850.0</td>\n",
       "      <td>United Kingdom</td>\n",
       "    </tr>\n",
       "    <tr>\n",
       "      <th>4</th>\n",
       "      <td>536365</td>\n",
       "      <td>84029E</td>\n",
       "      <td>RED WOOLLY HOTTIE WHITE HEART.</td>\n",
       "      <td>6</td>\n",
       "      <td>2010-12-01 08:26:00</td>\n",
       "      <td>3.39</td>\n",
       "      <td>17850.0</td>\n",
       "      <td>United Kingdom</td>\n",
       "    </tr>\n",
       "    <tr>\n",
       "      <th>...</th>\n",
       "      <td>...</td>\n",
       "      <td>...</td>\n",
       "      <td>...</td>\n",
       "      <td>...</td>\n",
       "      <td>...</td>\n",
       "      <td>...</td>\n",
       "      <td>...</td>\n",
       "      <td>...</td>\n",
       "    </tr>\n",
       "    <tr>\n",
       "      <th>541904</th>\n",
       "      <td>581587</td>\n",
       "      <td>22613</td>\n",
       "      <td>PACK OF 20 SPACEBOY NAPKINS</td>\n",
       "      <td>12</td>\n",
       "      <td>2011-12-09 12:50:00</td>\n",
       "      <td>0.85</td>\n",
       "      <td>12680.0</td>\n",
       "      <td>France</td>\n",
       "    </tr>\n",
       "    <tr>\n",
       "      <th>541905</th>\n",
       "      <td>581587</td>\n",
       "      <td>22899</td>\n",
       "      <td>CHILDREN'S APRON DOLLY GIRL</td>\n",
       "      <td>6</td>\n",
       "      <td>2011-12-09 12:50:00</td>\n",
       "      <td>2.10</td>\n",
       "      <td>12680.0</td>\n",
       "      <td>France</td>\n",
       "    </tr>\n",
       "    <tr>\n",
       "      <th>541906</th>\n",
       "      <td>581587</td>\n",
       "      <td>23254</td>\n",
       "      <td>CHILDRENS CUTLERY DOLLY GIRL</td>\n",
       "      <td>4</td>\n",
       "      <td>2011-12-09 12:50:00</td>\n",
       "      <td>4.15</td>\n",
       "      <td>12680.0</td>\n",
       "      <td>France</td>\n",
       "    </tr>\n",
       "    <tr>\n",
       "      <th>541907</th>\n",
       "      <td>581587</td>\n",
       "      <td>23255</td>\n",
       "      <td>CHILDRENS CUTLERY CIRCUS PARADE</td>\n",
       "      <td>4</td>\n",
       "      <td>2011-12-09 12:50:00</td>\n",
       "      <td>4.15</td>\n",
       "      <td>12680.0</td>\n",
       "      <td>France</td>\n",
       "    </tr>\n",
       "    <tr>\n",
       "      <th>541908</th>\n",
       "      <td>581587</td>\n",
       "      <td>22138</td>\n",
       "      <td>BAKING SET 9 PIECE RETROSPOT</td>\n",
       "      <td>3</td>\n",
       "      <td>2011-12-09 12:50:00</td>\n",
       "      <td>4.95</td>\n",
       "      <td>12680.0</td>\n",
       "      <td>France</td>\n",
       "    </tr>\n",
       "  </tbody>\n",
       "</table>\n",
       "<p>541909 rows × 8 columns</p>\n",
       "</div>"
      ],
      "text/plain": [
       "       InvoiceNo StockCode                          Description  Quantity  \\\n",
       "0         536365    85123A   WHITE HANGING HEART T-LIGHT HOLDER         6   \n",
       "1         536365     71053                  WHITE METAL LANTERN         6   \n",
       "2         536365    84406B       CREAM CUPID HEARTS COAT HANGER         8   \n",
       "3         536365    84029G  KNITTED UNION FLAG HOT WATER BOTTLE         6   \n",
       "4         536365    84029E       RED WOOLLY HOTTIE WHITE HEART.         6   \n",
       "...          ...       ...                                  ...       ...   \n",
       "541904    581587     22613          PACK OF 20 SPACEBOY NAPKINS        12   \n",
       "541905    581587     22899         CHILDREN'S APRON DOLLY GIRL          6   \n",
       "541906    581587     23254        CHILDRENS CUTLERY DOLLY GIRL          4   \n",
       "541907    581587     23255      CHILDRENS CUTLERY CIRCUS PARADE         4   \n",
       "541908    581587     22138        BAKING SET 9 PIECE RETROSPOT          3   \n",
       "\n",
       "               InvoiceDate  UnitPrice  CustomerID         Country  \n",
       "0      2010-12-01 08:26:00       2.55     17850.0  United Kingdom  \n",
       "1      2010-12-01 08:26:00       3.39     17850.0  United Kingdom  \n",
       "2      2010-12-01 08:26:00       2.75     17850.0  United Kingdom  \n",
       "3      2010-12-01 08:26:00       3.39     17850.0  United Kingdom  \n",
       "4      2010-12-01 08:26:00       3.39     17850.0  United Kingdom  \n",
       "...                    ...        ...         ...             ...  \n",
       "541904 2011-12-09 12:50:00       0.85     12680.0          France  \n",
       "541905 2011-12-09 12:50:00       2.10     12680.0          France  \n",
       "541906 2011-12-09 12:50:00       4.15     12680.0          France  \n",
       "541907 2011-12-09 12:50:00       4.15     12680.0          France  \n",
       "541908 2011-12-09 12:50:00       4.95     12680.0          France  \n",
       "\n",
       "[541909 rows x 8 columns]"
      ]
     },
     "execution_count": 3,
     "metadata": {},
     "output_type": "execute_result"
    }
   ],
   "source": [
    "url='https://archive.ics.uci.edu/ml/machine-learning-databases/00352/Online%20Retail.xlsx'\n",
    "data=pd.read_excel(url)\n",
    "data"
   ]
  },
  {
   "cell_type": "markdown",
   "id": "b482c164",
   "metadata": {},
   "source": [
    "# Data Cleaning and preparation "
   ]
  },
  {
   "cell_type": "code",
   "execution_count": 4,
   "id": "9dbd10ac",
   "metadata": {},
   "outputs": [
    {
     "name": "stdout",
     "output_type": "stream",
     "text": [
      "<class 'pandas.core.frame.DataFrame'>\n",
      "RangeIndex: 541909 entries, 0 to 541908\n",
      "Data columns (total 8 columns):\n",
      " #   Column       Non-Null Count   Dtype         \n",
      "---  ------       --------------   -----         \n",
      " 0   InvoiceNo    541909 non-null  object        \n",
      " 1   StockCode    541909 non-null  object        \n",
      " 2   Description  540455 non-null  object        \n",
      " 3   Quantity     541909 non-null  int64         \n",
      " 4   InvoiceDate  541909 non-null  datetime64[ns]\n",
      " 5   UnitPrice    541909 non-null  float64       \n",
      " 6   CustomerID   406829 non-null  float64       \n",
      " 7   Country      541909 non-null  object        \n",
      "dtypes: datetime64[ns](1), float64(2), int64(1), object(4)\n",
      "memory usage: 33.1+ MB\n"
     ]
    }
   ],
   "source": [
    "data.info()"
   ]
  },
  {
   "cell_type": "markdown",
   "id": "9372ac5a",
   "metadata": {},
   "source": [
    "## What are the columns with missing values?"
   ]
  },
  {
   "cell_type": "code",
   "execution_count": 5,
   "id": "62deef41",
   "metadata": {},
   "outputs": [
    {
     "data": {
      "text/plain": [
       "InvoiceNo           0\n",
       "StockCode           0\n",
       "Description      1454\n",
       "Quantity            0\n",
       "InvoiceDate         0\n",
       "UnitPrice           0\n",
       "CustomerID     135080\n",
       "Country             0\n",
       "dtype: int64"
      ]
     },
     "execution_count": 5,
     "metadata": {},
     "output_type": "execute_result"
    }
   ],
   "source": [
    "data.isna().sum()"
   ]
  },
  {
   "cell_type": "markdown",
   "id": "9c663880",
   "metadata": {},
   "source": [
    "## Removing cancelled orders "
   ]
  },
  {
   "cell_type": "code",
   "execution_count": 6,
   "id": "3fc07957",
   "metadata": {},
   "outputs": [
    {
     "name": "stdout",
     "output_type": "stream",
     "text": [
      "<class 'pandas.core.frame.DataFrame'>\n",
      "Int64Index: 532621 entries, 0 to 541908\n",
      "Data columns (total 8 columns):\n",
      " #   Column       Non-Null Count   Dtype         \n",
      "---  ------       --------------   -----         \n",
      " 0   InvoiceNo    532621 non-null  object        \n",
      " 1   StockCode    532621 non-null  object        \n",
      " 2   Description  531167 non-null  object        \n",
      " 3   Quantity     532621 non-null  int64         \n",
      " 4   InvoiceDate  532621 non-null  datetime64[ns]\n",
      " 5   UnitPrice    532621 non-null  float64       \n",
      " 6   CustomerID   397924 non-null  float64       \n",
      " 7   Country      532621 non-null  object        \n",
      "dtypes: datetime64[ns](1), float64(2), int64(1), object(4)\n",
      "memory usage: 36.6+ MB\n"
     ]
    }
   ],
   "source": [
    "data=data.loc[data['InvoiceNo'].str.contains('C')!=True]\n",
    "data.info()"
   ]
  },
  {
   "cell_type": "markdown",
   "id": "2edfee07",
   "metadata": {},
   "source": [
    "## Adding a total price column  "
   ]
  },
  {
   "cell_type": "code",
   "execution_count": 7,
   "id": "4644cd49",
   "metadata": {},
   "outputs": [],
   "source": [
    "data['Total_price']=data['Quantity']*data['UnitPrice']"
   ]
  },
  {
   "cell_type": "markdown",
   "id": "87e0aaea",
   "metadata": {},
   "source": [
    "## Checking the max and min times "
   ]
  },
  {
   "cell_type": "code",
   "execution_count": 8,
   "id": "0b578095",
   "metadata": {},
   "outputs": [],
   "source": [
    "import datetime as dt\n",
    "from datetime import timedelta"
   ]
  },
  {
   "cell_type": "code",
   "execution_count": 9,
   "id": "40f59a9d",
   "metadata": {},
   "outputs": [
    {
     "data": {
      "text/plain": [
       "Timestamp('2011-12-09 12:50:00')"
      ]
     },
     "execution_count": 9,
     "metadata": {},
     "output_type": "execute_result"
    }
   ],
   "source": [
    "data['InvoiceDate'].max()"
   ]
  },
  {
   "cell_type": "code",
   "execution_count": 10,
   "id": "85247426",
   "metadata": {},
   "outputs": [
    {
     "data": {
      "text/plain": [
       "Timestamp('2010-12-01 08:26:00')"
      ]
     },
     "execution_count": 10,
     "metadata": {},
     "output_type": "execute_result"
    }
   ],
   "source": [
    "data['InvoiceDate'].min()"
   ]
  },
  {
   "cell_type": "code",
   "execution_count": 11,
   "id": "2345fd3b",
   "metadata": {},
   "outputs": [
    {
     "name": "stdout",
     "output_type": "stream",
     "text": [
      "The Range between the first and the last day is 373 days 04:24:00\n"
     ]
    }
   ],
   "source": [
    "print('The Range between the first and the last day is',data['InvoiceDate'].max()-data['InvoiceDate'].min())"
   ]
  },
  {
   "cell_type": "markdown",
   "id": "a9c7a137",
   "metadata": {},
   "source": [
    "## dates for the test"
   ]
  },
  {
   "cell_type": "markdown",
   "id": "7355e03a",
   "metadata": {},
   "source": [
    "Lets get the "
   ]
  },
  {
   "cell_type": "code",
   "execution_count": 12,
   "id": "145a6153",
   "metadata": {},
   "outputs": [
    {
     "name": "stdout",
     "output_type": "stream",
     "text": [
      "test date 2011-06-12 00:00:00 \n",
      "first date 2011-05-13 00:00:00 \n",
      "last date 2011-07-12 00:00:00 \n",
      "offset days from the test date 30 Days\n"
     ]
    }
   ],
   "source": [
    "from dateutil.relativedelta import relativedelta  \n",
    "date_check=dt.datetime(2011,6,12) # add date time for the change as follows year,month,day\n",
    "b_a_time=30 #add the date time for the test of befor and after \n",
    "first_date=date_check-timedelta(days=b_a_time)\n",
    "last_date=date_check+ timedelta(days=b_a_time)\n",
    "print('test date',date_check ,'\\nfirst date',first_date,'\\nlast date',last_date,'\\noffset days from the test date',b_a_time,'Days')"
   ]
  },
  {
   "cell_type": "markdown",
   "id": "4a0fc2fb",
   "metadata": {},
   "source": [
    "## Index setting to the date"
   ]
  },
  {
   "cell_type": "code",
   "execution_count": 13,
   "id": "526e9935",
   "metadata": {},
   "outputs": [],
   "source": [
    "date_time=data.set_index(data['InvoiceDate'])"
   ]
  },
  {
   "cell_type": "markdown",
   "id": "e4cf380d",
   "metadata": {},
   "source": [
    "## splitting data for the test before and after"
   ]
  },
  {
   "cell_type": "code",
   "execution_count": 14,
   "id": "9051d97f",
   "metadata": {},
   "outputs": [],
   "source": [
    "date_time1=date_time[first_date:date_check]\n",
    "date_time2=date_time[date_check:last_date]"
   ]
  },
  {
   "cell_type": "markdown",
   "id": "7ce27c5d",
   "metadata": {},
   "source": [
    "# Z-test"
   ]
  },
  {
   "cell_type": "markdown",
   "id": "979ca391",
   "metadata": {},
   "source": [
    "select the numerical columns from this Data Frame times from this list "
   ]
  },
  {
   "cell_type": "code",
   "execution_count": 15,
   "id": "5c6f36a3",
   "metadata": {},
   "outputs": [],
   "source": [
    "test_list=date_time.select_dtypes(include=['float64','int64']).columns.to_list()"
   ]
  },
  {
   "cell_type": "code",
   "execution_count": 16,
   "id": "82ed3fdf",
   "metadata": {},
   "outputs": [],
   "source": [
    "z_test_list=['Z-score','P-value']"
   ]
  },
  {
   "cell_type": "code",
   "execution_count": 17,
   "id": "444fbff3",
   "metadata": {},
   "outputs": [
    {
     "data": {
      "text/html": [
       "<div>\n",
       "<style scoped>\n",
       "    .dataframe tbody tr th:only-of-type {\n",
       "        vertical-align: middle;\n",
       "    }\n",
       "\n",
       "    .dataframe tbody tr th {\n",
       "        vertical-align: top;\n",
       "    }\n",
       "\n",
       "    .dataframe thead th {\n",
       "        text-align: right;\n",
       "    }\n",
       "</style>\n",
       "<table border=\"1\" class=\"dataframe\">\n",
       "  <thead>\n",
       "    <tr style=\"text-align: right;\">\n",
       "      <th></th>\n",
       "      <th>Quantity</th>\n",
       "      <th>UnitPrice</th>\n",
       "      <th>CustomerID</th>\n",
       "      <th>Total_price</th>\n",
       "    </tr>\n",
       "  </thead>\n",
       "  <tbody>\n",
       "    <tr>\n",
       "      <th>Z-score</th>\n",
       "      <td>2.093057</td>\n",
       "      <td>2.225961</td>\n",
       "      <td>NaN</td>\n",
       "      <td>2.759452</td>\n",
       "    </tr>\n",
       "    <tr>\n",
       "      <th>P-value</th>\n",
       "      <td>0.036344</td>\n",
       "      <td>0.026017</td>\n",
       "      <td>NaN</td>\n",
       "      <td>0.00579</td>\n",
       "    </tr>\n",
       "    <tr>\n",
       "      <th>Is Significant</th>\n",
       "      <td>True</td>\n",
       "      <td>True</td>\n",
       "      <td>False</td>\n",
       "      <td>True</td>\n",
       "    </tr>\n",
       "  </tbody>\n",
       "</table>\n",
       "</div>"
      ],
      "text/plain": [
       "                Quantity UnitPrice CustomerID Total_price\n",
       "Z-score         2.093057  2.225961        NaN    2.759452\n",
       "P-value         0.036344  0.026017        NaN     0.00579\n",
       "Is Significant      True      True      False        True"
      ]
     },
     "execution_count": 17,
     "metadata": {},
     "output_type": "execute_result"
    }
   ],
   "source": [
    "from statsmodels.stats.weightstats import ztest as ztest\n",
    "z_scores=ztest(date_time1[test_list],date_time2[test_list])\n",
    "z_scores=pd.DataFrame(data=z_scores,index=z_test_list,columns=test_list).T\n",
    "z_scores['Is Significant']=np.where(z_scores['P-value']<0.05,True,False)\n",
    "z_scores=z_scores.T\n",
    "z_scores"
   ]
  },
  {
   "cell_type": "markdown",
   "id": "8db3b387",
   "metadata": {},
   "source": [
    "If the p-value is lower than 0.05 this means that this value is significant \n",
    "\n",
    "the z-score is how many standard deviations the changed happened in a positive or a negative   "
   ]
  },
  {
   "cell_type": "code",
   "execution_count": null,
   "id": "09a0c98b",
   "metadata": {},
   "outputs": [],
   "source": []
  }
 ],
 "metadata": {
  "kernelspec": {
   "display_name": "Python 3 (ipykernel)",
   "language": "python",
   "name": "python3"
  },
  "language_info": {
   "codemirror_mode": {
    "name": "ipython",
    "version": 3
   },
   "file_extension": ".py",
   "mimetype": "text/x-python",
   "name": "python",
   "nbconvert_exporter": "python",
   "pygments_lexer": "ipython3",
   "version": "3.9.13"
  }
 },
 "nbformat": 4,
 "nbformat_minor": 5
}
